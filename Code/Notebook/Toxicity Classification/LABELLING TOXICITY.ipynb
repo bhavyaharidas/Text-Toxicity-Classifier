{
 "cells": [
  {
   "cell_type": "markdown",
   "metadata": {
    "_cell_guid": "d3b04218-0413-4e6c-8751-5d8a404d73a9",
    "_uuid": "0bca9739b82d5d51e1229243e03ea1b6db35c17e"
   },
   "source": [
    "## Introduction\n",
    "\n",
    "In this kernel, we use sklearn's logistic regression to classify the given text into sub-categories with a probability of prediction."
   ]
  },
  {
   "cell_type": "code",
   "execution_count": 32,
   "metadata": {
    "_cell_guid": "ef06cd19-66b6-46bc-bf45-184e12d3f7d4",
    "_uuid": "cca038ca9424a3f66e10262fc9129de807b5f855"
   },
   "outputs": [],
   "source": [
    "import boto3\n",
    "import pandas as pd, numpy as np\n",
    "import pandas as pd, numpy as np\n",
    "from sklearn.linear_model import LogisticRegression\n",
    "from sklearn.feature_extraction.text import CountVectorizer, TfidfVectorizer\n",
    "from nltk import word_tokenize\n",
    "import os\n",
    "from configparser import ConfigParser\n",
    "from smart_open import smart_open"
   ]
  },
  {
   "cell_type": "markdown",
   "metadata": {},
   "source": [
    "### Data retrieval from Amazon S3"
   ]
  },
  {
   "cell_type": "code",
   "execution_count": 34,
   "metadata": {
    "_cell_guid": "a494f561-0c2f-4a38-8973-6b60c22da357",
    "_uuid": "f70ebe669fcf6b434c595cf6fb7a76120bf7809c"
   },
   "outputs": [],
   "source": [
    "config = ConfigParser()\n",
    "\n",
    "config_file = ('config.ini')\n",
    "config.read(config_file)\n",
    "config['aws.data']\n",
    "\n",
    "default = config['aws.data']\n",
    "aws_key = default['accessKey']\n",
    "aws_secret = default['secretAccessKey']\n",
    "\n",
    "bucket_name = 'texttoxicity-train-test'\n",
    "train_key = 'train.csv'\n",
    "test_key = 'test.csv'\n",
    "\n",
    "train_path = 's3://{}:{}@{}/{}'.format(aws_key, aws_secret, bucket_name, train_key)\n",
    "test_path = 's3://{}:{}@{}/{}'.format(aws_key, aws_secret, bucket_name, test_key)\n",
    "\n",
    "train = pd.read_csv(smart_open(train_path))\n",
    "test = pd.read_csv(smart_open(test_path))"
   ]
  },
  {
   "cell_type": "markdown",
   "metadata": {},
   "source": [
    "### Data Cleaning"
   ]
  },
  {
   "cell_type": "code",
   "execution_count": 35,
   "metadata": {},
   "outputs": [],
   "source": [
    "train['toxic'] = train.target.apply(lambda x: 1 if x>0.45 else 0)\n",
    "train['severe_toxicity'] = train.severe_toxicity.apply(lambda x: 1 if x>0.45 else 0)\n",
    "train['obscene'] = train.obscene.apply(lambda x: 1 if x>0.45 else 0)\n",
    "train['insult'] = train.insult.apply(lambda x: 1 if x>0.45 else 0)\n",
    "train['threat'] = train.threat.apply(lambda x: 1 if x>0.45 else 0)\n",
    "train['identity_attack'] = train.identity_attack.apply(lambda x: 1 if x>0.45 else 0)\n",
    "train = train[['id','comment_text','toxic', 'severe_toxicity', 'obscene', 'threat', 'insult', 'identity_attack']]"
   ]
  },
  {
   "cell_type": "markdown",
   "metadata": {
    "_cell_guid": "3996a226-e1ca-4aa8-b39f-6524d4dadb07",
    "_uuid": "2c18461316f17d1d323b1959c8eb4e5448e8a44e"
   },
   "source": [
    "## Looking at the data\n",
    "\n",
    "The training data contains a row per comment, with an id, the text of the comment, and 6 different labels that we'll try to predict."
   ]
  },
  {
   "cell_type": "code",
   "execution_count": 36,
   "metadata": {
    "_cell_guid": "5ddb337b-c9b2-4fec-9652-cb26769dc3c6",
    "_uuid": "5f5269c56ea6ded273881b0d4dcdb6af83a3e089",
    "scrolled": true
   },
   "outputs": [
    {
     "data": {
      "text/html": [
       "<div>\n",
       "<style scoped>\n",
       "    .dataframe tbody tr th:only-of-type {\n",
       "        vertical-align: middle;\n",
       "    }\n",
       "\n",
       "    .dataframe tbody tr th {\n",
       "        vertical-align: top;\n",
       "    }\n",
       "\n",
       "    .dataframe thead th {\n",
       "        text-align: right;\n",
       "    }\n",
       "</style>\n",
       "<table border=\"1\" class=\"dataframe\">\n",
       "  <thead>\n",
       "    <tr style=\"text-align: right;\">\n",
       "      <th></th>\n",
       "      <th>id</th>\n",
       "      <th>comment_text</th>\n",
       "      <th>toxic</th>\n",
       "      <th>severe_toxicity</th>\n",
       "      <th>obscene</th>\n",
       "      <th>threat</th>\n",
       "      <th>insult</th>\n",
       "      <th>identity_attack</th>\n",
       "    </tr>\n",
       "  </thead>\n",
       "  <tbody>\n",
       "    <tr>\n",
       "      <th>0</th>\n",
       "      <td>59848</td>\n",
       "      <td>This is so cool. It's like, 'would you want yo...</td>\n",
       "      <td>0</td>\n",
       "      <td>0</td>\n",
       "      <td>0</td>\n",
       "      <td>0</td>\n",
       "      <td>0</td>\n",
       "      <td>0</td>\n",
       "    </tr>\n",
       "    <tr>\n",
       "      <th>1</th>\n",
       "      <td>59849</td>\n",
       "      <td>Thank you!! This would make my life a lot less...</td>\n",
       "      <td>0</td>\n",
       "      <td>0</td>\n",
       "      <td>0</td>\n",
       "      <td>0</td>\n",
       "      <td>0</td>\n",
       "      <td>0</td>\n",
       "    </tr>\n",
       "    <tr>\n",
       "      <th>2</th>\n",
       "      <td>59852</td>\n",
       "      <td>This is such an urgent design problem; kudos t...</td>\n",
       "      <td>0</td>\n",
       "      <td>0</td>\n",
       "      <td>0</td>\n",
       "      <td>0</td>\n",
       "      <td>0</td>\n",
       "      <td>0</td>\n",
       "    </tr>\n",
       "    <tr>\n",
       "      <th>3</th>\n",
       "      <td>59855</td>\n",
       "      <td>Is this something I'll be able to install on m...</td>\n",
       "      <td>0</td>\n",
       "      <td>0</td>\n",
       "      <td>0</td>\n",
       "      <td>0</td>\n",
       "      <td>0</td>\n",
       "      <td>0</td>\n",
       "    </tr>\n",
       "    <tr>\n",
       "      <th>4</th>\n",
       "      <td>59856</td>\n",
       "      <td>haha you guys are a bunch of losers.</td>\n",
       "      <td>1</td>\n",
       "      <td>0</td>\n",
       "      <td>0</td>\n",
       "      <td>0</td>\n",
       "      <td>1</td>\n",
       "      <td>0</td>\n",
       "    </tr>\n",
       "  </tbody>\n",
       "</table>\n",
       "</div>"
      ],
      "text/plain": [
       "      id                                       comment_text  toxic  \\\n",
       "0  59848  This is so cool. It's like, 'would you want yo...      0   \n",
       "1  59849  Thank you!! This would make my life a lot less...      0   \n",
       "2  59852  This is such an urgent design problem; kudos t...      0   \n",
       "3  59855  Is this something I'll be able to install on m...      0   \n",
       "4  59856               haha you guys are a bunch of losers.      1   \n",
       "\n",
       "   severe_toxicity  obscene  threat  insult  identity_attack  \n",
       "0                0        0       0       0                0  \n",
       "1                0        0       0       0                0  \n",
       "2                0        0       0       0                0  \n",
       "3                0        0       0       0                0  \n",
       "4                0        0       0       1                0  "
      ]
     },
     "execution_count": 36,
     "metadata": {},
     "output_type": "execute_result"
    }
   ],
   "source": [
    "train.head()"
   ]
  },
  {
   "cell_type": "markdown",
   "metadata": {
    "_cell_guid": "2ea37597-02f7-43cf-ad16-a3d50aac1aba",
    "_uuid": "5c4c716de98a4b1c2ecc0e516e67813b4fc1473e"
   },
   "source": [
    "The length of the comments varies a lot."
   ]
  },
  {
   "cell_type": "code",
   "execution_count": 37,
   "metadata": {
    "_cell_guid": "fd3fe158-4d7f-4b30-ac15-42605240ea4f",
    "_uuid": "9c1a3f81397199fa250a2b642edc7fbc5f9f504e"
   },
   "outputs": [
    {
     "data": {
      "text/plain": [
       "(297.2343266067327, 269.1966399585827, 1906)"
      ]
     },
     "execution_count": 37,
     "metadata": {},
     "output_type": "execute_result"
    }
   ],
   "source": [
    "lens = train.comment_text.str.len()\n",
    "lens.mean(), lens.std(), lens.max()"
   ]
  },
  {
   "cell_type": "code",
   "execution_count": 39,
   "metadata": {
    "_cell_guid": "d2e55012-4736-425f-84f3-c148ac1f4852",
    "_uuid": "eb68f1c83a5ad11e652ca5f2150993a06d43edb4"
   },
   "outputs": [
    {
     "data": {
      "image/png": "[encoded data removed]",
      "text/plain": [
       "<Figure size 432x288 with 1 Axes>"
      ]
     },
     "metadata": {
      "needs_background": "light"
     },
     "output_type": "display_data"
    }
   ],
   "source": [
    "lens.hist();"
   ]
  },
  {
   "cell_type": "markdown",
   "metadata": {
    "_cell_guid": "b8515824-b2dd-4c95-bbf9-dc74c80355db",
    "_uuid": "0151ab55887071aed82d297acb2c6545ed964c2b"
   },
   "source": [
    "We'll create a list of all the labels to predict, and we'll also create a 'none' label so we can see how many comments have no labels. We can then summarize the dataset."
   ]
  },
  {
   "cell_type": "code",
   "execution_count": 40,
   "metadata": {
    "_cell_guid": "c66f79d1-1d9f-4d94-82c1-8026af198f2a",
    "_uuid": "4ba6ef86c82f073bf411785d971a694348c3efa9"
   },
   "outputs": [
    {
     "data": {
      "text/html": [
       "<div>\n",
       "<style scoped>\n",
       "    .dataframe tbody tr th:only-of-type {\n",
       "        vertical-align: middle;\n",
       "    }\n",
       "\n",
       "    .dataframe tbody tr th {\n",
       "        vertical-align: top;\n",
       "    }\n",
       "\n",
       "    .dataframe thead th {\n",
       "        text-align: right;\n",
       "    }\n",
       "</style>\n",
       "<table border=\"1\" class=\"dataframe\">\n",
       "  <thead>\n",
       "    <tr style=\"text-align: right;\">\n",
       "      <th></th>\n",
       "      <th>id</th>\n",
       "      <th>toxic</th>\n",
       "      <th>severe_toxicity</th>\n",
       "      <th>obscene</th>\n",
       "      <th>threat</th>\n",
       "      <th>insult</th>\n",
       "      <th>identity_attack</th>\n",
       "      <th>none</th>\n",
       "    </tr>\n",
       "  </thead>\n",
       "  <tbody>\n",
       "    <tr>\n",
       "      <th>count</th>\n",
       "      <td>1.804874e+06</td>\n",
       "      <td>1.804874e+06</td>\n",
       "      <td>1.804874e+06</td>\n",
       "      <td>1.804874e+06</td>\n",
       "      <td>1.804874e+06</td>\n",
       "      <td>1.804874e+06</td>\n",
       "      <td>1.804874e+06</td>\n",
       "      <td>1.804874e+06</td>\n",
       "    </tr>\n",
       "    <tr>\n",
       "      <th>mean</th>\n",
       "      <td>3.738434e+06</td>\n",
       "      <td>8.200849e-02</td>\n",
       "      <td>9.972995e-06</td>\n",
       "      <td>5.651918e-03</td>\n",
       "      <td>2.496573e-03</td>\n",
       "      <td>6.108460e-02</td>\n",
       "      <td>7.829909e-03</td>\n",
       "      <td>9.159986e-01</td>\n",
       "    </tr>\n",
       "    <tr>\n",
       "      <th>std</th>\n",
       "      <td>2.445187e+06</td>\n",
       "      <td>2.743777e-01</td>\n",
       "      <td>3.157990e-03</td>\n",
       "      <td>7.496651e-02</td>\n",
       "      <td>4.990332e-02</td>\n",
       "      <td>2.394855e-01</td>\n",
       "      <td>8.813970e-02</td>\n",
       "      <td>2.773900e-01</td>\n",
       "    </tr>\n",
       "    <tr>\n",
       "      <th>min</th>\n",
       "      <td>5.984800e+04</td>\n",
       "      <td>0.000000e+00</td>\n",
       "      <td>0.000000e+00</td>\n",
       "      <td>0.000000e+00</td>\n",
       "      <td>0.000000e+00</td>\n",
       "      <td>0.000000e+00</td>\n",
       "      <td>0.000000e+00</td>\n",
       "      <td>0.000000e+00</td>\n",
       "    </tr>\n",
       "    <tr>\n",
       "      <th>25%</th>\n",
       "      <td>7.969752e+05</td>\n",
       "      <td>0.000000e+00</td>\n",
       "      <td>0.000000e+00</td>\n",
       "      <td>0.000000e+00</td>\n",
       "      <td>0.000000e+00</td>\n",
       "      <td>0.000000e+00</td>\n",
       "      <td>0.000000e+00</td>\n",
       "      <td>1.000000e+00</td>\n",
       "    </tr>\n",
       "    <tr>\n",
       "      <th>50%</th>\n",
       "      <td>5.223774e+06</td>\n",
       "      <td>0.000000e+00</td>\n",
       "      <td>0.000000e+00</td>\n",
       "      <td>0.000000e+00</td>\n",
       "      <td>0.000000e+00</td>\n",
       "      <td>0.000000e+00</td>\n",
       "      <td>0.000000e+00</td>\n",
       "      <td>1.000000e+00</td>\n",
       "    </tr>\n",
       "    <tr>\n",
       "      <th>75%</th>\n",
       "      <td>5.769854e+06</td>\n",
       "      <td>0.000000e+00</td>\n",
       "      <td>0.000000e+00</td>\n",
       "      <td>0.000000e+00</td>\n",
       "      <td>0.000000e+00</td>\n",
       "      <td>0.000000e+00</td>\n",
       "      <td>0.000000e+00</td>\n",
       "      <td>1.000000e+00</td>\n",
       "    </tr>\n",
       "    <tr>\n",
       "      <th>max</th>\n",
       "      <td>6.334010e+06</td>\n",
       "      <td>1.000000e+00</td>\n",
       "      <td>1.000000e+00</td>\n",
       "      <td>1.000000e+00</td>\n",
       "      <td>1.000000e+00</td>\n",
       "      <td>1.000000e+00</td>\n",
       "      <td>1.000000e+00</td>\n",
       "      <td>1.000000e+00</td>\n",
       "    </tr>\n",
       "  </tbody>\n",
       "</table>\n",
       "</div>"
      ],
      "text/plain": [
       "                 id         toxic  severe_toxicity       obscene  \\\n",
       "count  1.804874e+06  1.804874e+06     1.804874e+06  1.804874e+06   \n",
       "mean   3.738434e+06  8.200849e-02     9.972995e-06  5.651918e-03   \n",
       "std    2.445187e+06  2.743777e-01     3.157990e-03  7.496651e-02   \n",
       "min    5.984800e+04  0.000000e+00     0.000000e+00  0.000000e+00   \n",
       "25%    7.969752e+05  0.000000e+00     0.000000e+00  0.000000e+00   \n",
       "50%    5.223774e+06  0.000000e+00     0.000000e+00  0.000000e+00   \n",
       "75%    5.769854e+06  0.000000e+00     0.000000e+00  0.000000e+00   \n",
       "max    6.334010e+06  1.000000e+00     1.000000e+00  1.000000e+00   \n",
       "\n",
       "             threat        insult  identity_attack          none  \n",
       "count  1.804874e+06  1.804874e+06     1.804874e+06  1.804874e+06  \n",
       "mean   2.496573e-03  6.108460e-02     7.829909e-03  9.159986e-01  \n",
       "std    4.990332e-02  2.394855e-01     8.813970e-02  2.773900e-01  \n",
       "min    0.000000e+00  0.000000e+00     0.000000e+00  0.000000e+00  \n",
       "25%    0.000000e+00  0.000000e+00     0.000000e+00  1.000000e+00  \n",
       "50%    0.000000e+00  0.000000e+00     0.000000e+00  1.000000e+00  \n",
       "75%    0.000000e+00  0.000000e+00     0.000000e+00  1.000000e+00  \n",
       "max    1.000000e+00  1.000000e+00     1.000000e+00  1.000000e+00  "
      ]
     },
     "execution_count": 40,
     "metadata": {},
     "output_type": "execute_result"
    }
   ],
   "source": [
    "label_cols = ['toxic', 'severe_toxicity', 'obscene', 'threat', 'insult', 'identity_attack']\n",
    "train['none'] = 1-train[label_cols].max(axis=1)\n",
    "train.describe()"
   ]
  },
  {
   "cell_type": "code",
   "execution_count": 41,
   "metadata": {
    "_cell_guid": "9f6316e3-7e29-431b-abef-73acf4a08637",
    "_uuid": "b7b0d391248f929a026b16fc38936b7fc0176351"
   },
   "outputs": [
    {
     "data": {
      "text/plain": [
       "(1804874, 97320)"
      ]
     },
     "execution_count": 41,
     "metadata": {},
     "output_type": "execute_result"
    }
   ],
   "source": [
    "len(train),len(test)"
   ]
  },
  {
   "cell_type": "markdown",
   "metadata": {
    "_cell_guid": "1b221e62-e23f-422a-939d-6747edf2d613",
    "_uuid": "bfdcf59624717b37ca4ffc0c99d2c28a2d419b06"
   },
   "source": [
    "There are a few empty comments that we need to get rid of, otherwise sklearn will complain."
   ]
  },
  {
   "cell_type": "code",
   "execution_count": 42,
   "metadata": {
    "_cell_guid": "fdba531c-7ef2-4967-88e2-fc2b04f6f2ef",
    "_uuid": "1e1229f403225f1889c7a7b4fc9be90fda818af5"
   },
   "outputs": [],
   "source": [
    "COMMENT = 'comment_text'\n",
    "train[COMMENT].fillna(\"unknown\", inplace=True)\n",
    "test[COMMENT].fillna(\"unknown\", inplace=True)"
   ]
  },
  {
   "cell_type": "markdown",
   "metadata": {
    "_cell_guid": "480780f1-00c0-4f9a-81e5-fc1932516a80",
    "_uuid": "f2e77e8e6df5e29b620c7a2a0add1438c35af932"
   },
   "source": [
    "### Building the model"
   ]
  },
  {
   "cell_type": "markdown",
   "metadata": {},
   "source": [
    "TF-IDF Vectorizer is used to vectorise the comments"
   ]
  },
  {
   "cell_type": "code",
   "execution_count": 43,
   "metadata": {
    "_cell_guid": "31ad6c98-d054-426c-b3bd-b3b18f52eb6f",
    "_uuid": "75f3f27d56fb2d7d539e65c292d9e77c92ceead3"
   },
   "outputs": [],
   "source": [
    "n = train.shape[0]\n",
    "vec = TfidfVectorizer(ngram_range=(1,2), tokenizer=word_tokenize,\n",
    "               min_df=3, max_df=0.9, strip_accents='unicode', use_idf=1,\n",
    "               smooth_idf=1, sublinear_tf=1 )\n",
    "trn_term_doc = vec.fit_transform(train[COMMENT])\n",
    "test_term_doc = vec.transform(test[COMMENT])"
   ]
  },
  {
   "cell_type": "markdown",
   "metadata": {
    "_cell_guid": "4cf3ec26-8237-452b-90c9-831cb0297955",
    "_uuid": "6d215bc460e64d88b08f501d5c5a67c290e40635"
   },
   "source": [
    "This creates a *sparse matrix* with only a small number of non-zero elements (*stored elements* in the representation  below)."
   ]
  },
  {
   "cell_type": "code",
   "execution_count": 44,
   "metadata": {
    "_cell_guid": "4c7bdbcc-4451-4477-944c-772e99bac777",
    "_uuid": "8816cc35f66b9fed9c12978fbdef5bb68fae10f4"
   },
   "outputs": [
    {
     "data": {
      "text/plain": [
       "(<1804874x2304861 sparse matrix of type '<class 'numpy.float64'>'\n",
       " \twith 170107570 stored elements in Compressed Sparse Row format>,\n",
       " <97320x2304861 sparse matrix of type '<class 'numpy.float64'>'\n",
       " \twith 9124050 stored elements in Compressed Sparse Row format>)"
      ]
     },
     "execution_count": 44,
     "metadata": {},
     "output_type": "execute_result"
    }
   ],
   "source": [
    "trn_term_doc, test_term_doc"
   ]
  },
  {
   "cell_type": "code",
   "execution_count": 50,
   "metadata": {
    "_cell_guid": "45fc6070-ba13-455b-9274-5c2611e2809c",
    "_uuid": "8b277f01cecd575ed4fcae2e630c0dd8ce979793"
   },
   "outputs": [],
   "source": [
    "def pr(y_i, y):\n",
    "    p = x[y==y_i].sum(0)\n",
    "    return (p+1) / ((y==y_i).sum()+1)"
   ]
  },
  {
   "cell_type": "code",
   "execution_count": 51,
   "metadata": {
    "_cell_guid": "2299d24b-5515-4d37-92d9-e7f6b16a290a",
    "_uuid": "926eaa2e40e588f4ef2b86e0a28f8e575c9ed5f4"
   },
   "outputs": [],
   "source": [
    "x = trn_term_doc\n",
    "test_x = test_term_doc"
   ]
  },
  {
   "cell_type": "code",
   "execution_count": 52,
   "metadata": {},
   "outputs": [
    {
     "name": "stdout",
     "output_type": "stream",
     "text": [
      "  (0, 2215173)\t0.10006306272618043\n",
      "  (0, 2212065)\t0.05151512124954903\n",
      "  (0, 2105952)\t0.09996826803093134\n",
      "  (0, 2105940)\t0.06336574570502959\n",
      "  (0, 1996994)\t0.14831466813202215\n",
      "  (0, 1983679)\t0.13983321394374026\n",
      "  (0, 1971172)\t0.04160843146272801\n",
      "  (0, 1798807)\t0.1787242327120229\n",
      "  (0, 1798727)\t0.13399055560130785\n",
      "  (0, 1716339)\t0.19907968714630236\n",
      "  (0, 1716332)\t0.1263121417255389\n",
      "  (0, 1599967)\t0.2434632153655707\n",
      "  (0, 1599775)\t0.10649646500957297\n",
      "  (0, 1506149)\t0.17761794575083575\n",
      "  (0, 1489429)\t0.15217178170363835\n",
      "  (0, 1489353)\t0.126315536287002\n",
      "  (0, 1477275)\t0.08792959116969182\n",
      "  (0, 1475035)\t0.05775955002093855\n",
      "  (0, 1454998)\t0.10702980048215424\n",
      "  (0, 1453821)\t0.11963761528822553\n",
      "  (0, 1433887)\t0.05240820742605657\n",
      "  (0, 1155529)\t0.16509154857066993\n",
      "  (0, 1155471)\t0.14593373993520745\n",
      "  (0, 1129089)\t0.13363479822079352\n",
      "  (0, 1128178)\t0.032696420253560725\n",
      "  :\t:\n",
      "  (97318, 84615)\t0.09412734290309624\n",
      "  (97318, 77325)\t0.0912675136919613\n",
      "  (97318, 62948)\t0.02586068672312247\n",
      "  (97318, 42153)\t0.1233296816251209\n",
      "  (97318, 35662)\t0.11835630667589393\n",
      "  (97318, 35060)\t0.0396641710196386\n",
      "  (97319, 2287307)\t0.16236682134535949\n",
      "  (97319, 1864362)\t0.22756623376797588\n",
      "  (97319, 1864291)\t0.17207795450176996\n",
      "  (97319, 1571131)\t0.3843768478572392\n",
      "  (97319, 1571129)\t0.30058488501025526\n",
      "  (97319, 1176870)\t0.3521500527466681\n",
      "  (97319, 1176831)\t0.21614705349850644\n",
      "  (97319, 1021780)\t0.21355440023533295\n",
      "  (97319, 1021769)\t0.16663071841129676\n",
      "  (97319, 922183)\t0.30696249456462377\n",
      "  (97319, 921909)\t0.16877873932842216\n",
      "  (97319, 878202)\t0.2533734835156666\n",
      "  (97319, 873518)\t0.06057130449124957\n",
      "  (97319, 677119)\t0.20606782504238616\n",
      "  (97319, 528664)\t0.28084810995675547\n",
      "  (97319, 526546)\t0.08981075582111993\n",
      "  (97319, 100164)\t0.03374756613370942\n",
      "  (97319, 74463)\t0.2949291887281603\n",
      "  (97319, 62948)\t0.043994709865433586\n"
     ]
    }
   ],
   "source": [
    "print(test_term_doc)"
   ]
  },
  {
   "cell_type": "markdown",
   "metadata": {
    "_cell_guid": "c0b494ac-0dfc-4faa-a909-0a6d7696d1fc",
    "_uuid": "dc5cafeab86d17ac4f036d58658437636a885a87"
   },
   "source": [
    "Fit a model for one dependent at a time:"
   ]
  },
  {
   "cell_type": "code",
   "execution_count": 53,
   "metadata": {
    "_cell_guid": "b756c889-a383-4952-9ee9-eca79fd3454f",
    "_uuid": "8652ab2f5f84e77fa395252be9b60be1e44fd583"
   },
   "outputs": [],
   "source": [
    "def get_mdl(y):\n",
    "    y = y.values\n",
    "    r = np.log(pr(1,y) / pr(0,y))\n",
    "    m = LogisticRegression(C=4, dual=True)\n",
    "    x_nb = x.multiply(r)\n",
    "    return m.fit(x_nb, y), r"
   ]
  },
  {
   "cell_type": "code",
   "execution_count": 54,
   "metadata": {
    "_cell_guid": "33fd5f8c-adfc-45a1-9fde-1769a0993e76",
    "_uuid": "0fa103b5406aabdc36ea9ef21612d343e4982fc4"
   },
   "outputs": [
    {
     "name": "stdout",
     "output_type": "stream",
     "text": [
      "fit toxic\n"
     ]
    },
    {
     "name": "stderr",
     "output_type": "stream",
     "text": [
      "C:\\Users\\bhavy\\Anaconda3\\lib\\site-packages\\sklearn\\linear_model\\logistic.py:433: FutureWarning: Default solver will be changed to 'lbfgs' in 0.22. Specify a solver to silence this warning.\n",
      "  FutureWarning)\n",
      "C:\\Users\\bhavy\\Anaconda3\\lib\\site-packages\\sklearn\\svm\\base.py:931: ConvergenceWarning: Liblinear failed to converge, increase the number of iterations.\n",
      "  \"the number of iterations.\", ConvergenceWarning)\n"
     ]
    },
    {
     "name": "stdout",
     "output_type": "stream",
     "text": [
      "fit severe_toxicity\n",
      "fit obscene\n",
      "fit threat\n",
      "fit insult\n",
      "fit identity_attack\n"
     ]
    }
   ],
   "source": [
    "preds = np.zeros((len(test), len(label_cols)))\n",
    "\n",
    "for i, j in enumerate(label_cols):\n",
    "    print('fit', j)\n",
    "    m,r = get_mdl(train[j])\n",
    "    try:\n",
    "        d = open(str(j) + '_model.p', 'wb')\n",
    "        pickle.dump(m, d)\n",
    "    finally:\n",
    "        d.close()\n",
    "    try:\n",
    "        e = open(str(j) + '_r.p','wb')\n",
    "        pickle.dump(r, e)\n",
    "    finally:\n",
    "        e.close()    "
   ]
  },
  {
   "cell_type": "code",
   "execution_count": 111,
   "metadata": {},
   "outputs": [],
   "source": [
    "try:\n",
    "    d = open('tf_idf_vectorizer.p', 'wb')\n",
    "    pickle.dump(vec, d)\n",
    "finally:\n",
    "    d.close()"
   ]
  },
  {
   "cell_type": "markdown",
   "metadata": {},
   "source": [
    "### Testing"
   ]
  },
  {
   "cell_type": "code",
   "execution_count": 57,
   "metadata": {},
   "outputs": [],
   "source": [
    "import pickle\n",
    "import numpy as np\n",
    "import tweepy\n",
    "import pandas as pd\n",
    "\n",
    "vectorizer = pickle.load(open('tf_idf_vectorizer.p','rb'))\n",
    "\n",
    "toxic_model = pickle.load(open('toxic_model.p','rb'))\n",
    "toxic_r = pickle.load(open('toxic_r.p','rb'))\n",
    "\n",
    "severe_toxicity_model = pickle.load(open('severe_toxicity_model.p','rb'))\n",
    "severe_toxicity_r = pickle.load(open('severe_toxicity_r.p','rb'))\n",
    "\n",
    "obscene_model = pickle.load(open('obscene_model.p','rb'))\n",
    "obscene_r = pickle.load(open('obscene_r.p','rb'))\n",
    "\n",
    "threat_model = pickle.load(open('threat_model.p','rb'))\n",
    "threat_r = pickle.load(open('threat_r.p','rb'))\n",
    "\n",
    "insult_model = pickle.load(open('insult_model.p','rb'))\n",
    "insult_r = pickle.load(open('insult_r.p','rb'))\n",
    "\n",
    "identity_attack_model = pickle.load(open('identity_attack_model.p','rb'))\n",
    "identity_attack_r = pickle.load(open('identity_attack_r.p','rb'))"
   ]
  },
  {
   "cell_type": "code",
   "execution_count": 56,
   "metadata": {},
   "outputs": [],
   "source": [
    "import os\n",
    "\n",
    "try:\n",
    "    d = open('tf_idf_vectorizer.p', 'wb')\n",
    "    pickle.dump(vec, d)\n",
    "finally:\n",
    "    d.close()"
   ]
  },
  {
   "cell_type": "code",
   "execution_count": 58,
   "metadata": {},
   "outputs": [],
   "source": [
    "label_cols = ['toxic', 'severe_toxicity', 'obscene', 'threat', 'insult','identity_attack']\n",
    "models = {\"toxic\" : [toxic_model,toxic_r],\"severe_toxicity\" : [severe_toxicity_model,severe_toxicity_r],\n",
    "            \"obscene\":[obscene_model,obscene_r],\"threat\":[threat_model,threat_r],\"insult\":[insult_model,insult_r],\n",
    "            \"identity_attack\":[identity_attack_model,identity_attack_r]}"
   ]
  },
  {
   "cell_type": "code",
   "execution_count": 59,
   "metadata": {},
   "outputs": [],
   "source": [
    "def get_model(name):\n",
    "    return models[name]"
   ]
  },
  {
   "cell_type": "code",
   "execution_count": 63,
   "metadata": {},
   "outputs": [],
   "source": [
    "text = ['hi how are you']\n",
    "v = vectorizer.transform(text)\n",
    "p = np.zeros((len(text), len(label_cols)))\n",
    "for i, j in enumerate(label_cols):\n",
    "    model = get_model(j)\n",
    "    p[:,i] = model[0].predict_proba(v.multiply(model[1]))[:,1]\n",
    "result = pd.concat([pd.DataFrame(p, columns = label_cols)], axis=1)"
   ]
  },
  {
   "cell_type": "code",
   "execution_count": 64,
   "metadata": {},
   "outputs": [
    {
     "name": "stdout",
     "output_type": "stream",
     "text": [
      "      toxic  severe_toxicity   obscene    threat    insult  identity_attack\n",
      "0  0.055231         0.000003  0.000994  0.000542  0.038848          0.00216\n"
     ]
    }
   ],
   "source": [
    "print(result)"
   ]
  },
  {
   "cell_type": "code",
   "execution_count": null,
   "metadata": {},
   "outputs": [],
   "source": []
  }
 ],
 "metadata": {
  "kernelspec": {
   "display_name": "Python 3",
   "language": "python",
   "name": "python3"
  },
  "language_info": {
   "codemirror_mode": {
    "name": "ipython",
    "version": 3
   },
   "file_extension": ".py",
   "mimetype": "text/x-python",
   "name": "python",
   "nbconvert_exporter": "python",
   "pygments_lexer": "ipython3",
   "version": "3.7.3"
  }
 },
 "nbformat": 4,
 "nbformat_minor": 1
}
