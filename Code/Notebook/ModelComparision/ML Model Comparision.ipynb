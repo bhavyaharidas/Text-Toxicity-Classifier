{
 "cells": [
  {
   "cell_type": "markdown",
   "metadata": {},
   "source": [
    "# Import Data Set"
   ]
  },
  {
   "cell_type": "code",
   "execution_count": 1,
   "metadata": {},
   "outputs": [],
   "source": [
    "import boto3\n",
    "import pandas as pd\n",
    "import os\n",
    "from configparser import ConfigParser\n",
    "from smart_open import smart_open\n",
    "\n",
    "config = ConfigParser()\n",
    "\n",
    "config_file = ('config.ini')\n",
    "config.read(config_file)\n",
    "default = config['aws.data']\n",
    "\n",
    "\n",
    "aws_key = default['accessKey']\n",
    "aws_secret = default['secretAccessKey']\n",
    "\n",
    "bucket_name = 'texttoxicity-train-test'\n",
    "object_key = 'train.csv'\n",
    "\n",
    "object_key_train = 'train.csv'\n",
    "object_key_test ='test.csv'\n",
    "\n",
    "path_train = 's3://{}:{}@{}/{}'.format(aws_key, aws_secret, bucket_name, object_key_train)\n",
    "path_test = 's3://{}:{}@{}/{}'.format(aws_key, aws_secret, bucket_name, object_key_test)\n",
    "\n",
    "train = pd.read_csv(smart_open(path_train))\n",
    "test =pd.read_csv(smart_open(path_test))"
   ]
  },
  {
   "cell_type": "code",
   "execution_count": 2,
   "metadata": {},
   "outputs": [
    {
     "data": {
      "text/html": [
       "<div>\n",
       "<style scoped>\n",
       "    .dataframe tbody tr th:only-of-type {\n",
       "        vertical-align: middle;\n",
       "    }\n",
       "\n",
       "    .dataframe tbody tr th {\n",
       "        vertical-align: top;\n",
       "    }\n",
       "\n",
       "    .dataframe thead th {\n",
       "        text-align: right;\n",
       "    }\n",
       "</style>\n",
       "<table border=\"1\" class=\"dataframe\">\n",
       "  <thead>\n",
       "    <tr style=\"text-align: right;\">\n",
       "      <th></th>\n",
       "      <th>id</th>\n",
       "      <th>target</th>\n",
       "      <th>comment_text</th>\n",
       "      <th>severe_toxicity</th>\n",
       "      <th>obscene</th>\n",
       "      <th>identity_attack</th>\n",
       "      <th>insult</th>\n",
       "      <th>threat</th>\n",
       "      <th>asian</th>\n",
       "      <th>atheist</th>\n",
       "      <th>...</th>\n",
       "      <th>article_id</th>\n",
       "      <th>rating</th>\n",
       "      <th>funny</th>\n",
       "      <th>wow</th>\n",
       "      <th>sad</th>\n",
       "      <th>likes</th>\n",
       "      <th>disagree</th>\n",
       "      <th>sexual_explicit</th>\n",
       "      <th>identity_annotator_count</th>\n",
       "      <th>toxicity_annotator_count</th>\n",
       "    </tr>\n",
       "  </thead>\n",
       "  <tbody>\n",
       "    <tr>\n",
       "      <th>0</th>\n",
       "      <td>59848</td>\n",
       "      <td>0.000000</td>\n",
       "      <td>This is so cool. It's like, 'would you want yo...</td>\n",
       "      <td>0.000000</td>\n",
       "      <td>0.0</td>\n",
       "      <td>0.000000</td>\n",
       "      <td>0.00000</td>\n",
       "      <td>0.0</td>\n",
       "      <td>NaN</td>\n",
       "      <td>NaN</td>\n",
       "      <td>...</td>\n",
       "      <td>2006</td>\n",
       "      <td>rejected</td>\n",
       "      <td>0</td>\n",
       "      <td>0</td>\n",
       "      <td>0</td>\n",
       "      <td>0</td>\n",
       "      <td>0</td>\n",
       "      <td>0.0</td>\n",
       "      <td>0</td>\n",
       "      <td>4</td>\n",
       "    </tr>\n",
       "    <tr>\n",
       "      <th>1</th>\n",
       "      <td>59849</td>\n",
       "      <td>0.000000</td>\n",
       "      <td>Thank you!! This would make my life a lot less...</td>\n",
       "      <td>0.000000</td>\n",
       "      <td>0.0</td>\n",
       "      <td>0.000000</td>\n",
       "      <td>0.00000</td>\n",
       "      <td>0.0</td>\n",
       "      <td>NaN</td>\n",
       "      <td>NaN</td>\n",
       "      <td>...</td>\n",
       "      <td>2006</td>\n",
       "      <td>rejected</td>\n",
       "      <td>0</td>\n",
       "      <td>0</td>\n",
       "      <td>0</td>\n",
       "      <td>0</td>\n",
       "      <td>0</td>\n",
       "      <td>0.0</td>\n",
       "      <td>0</td>\n",
       "      <td>4</td>\n",
       "    </tr>\n",
       "    <tr>\n",
       "      <th>2</th>\n",
       "      <td>59852</td>\n",
       "      <td>0.000000</td>\n",
       "      <td>This is such an urgent design problem; kudos t...</td>\n",
       "      <td>0.000000</td>\n",
       "      <td>0.0</td>\n",
       "      <td>0.000000</td>\n",
       "      <td>0.00000</td>\n",
       "      <td>0.0</td>\n",
       "      <td>NaN</td>\n",
       "      <td>NaN</td>\n",
       "      <td>...</td>\n",
       "      <td>2006</td>\n",
       "      <td>rejected</td>\n",
       "      <td>0</td>\n",
       "      <td>0</td>\n",
       "      <td>0</td>\n",
       "      <td>0</td>\n",
       "      <td>0</td>\n",
       "      <td>0.0</td>\n",
       "      <td>0</td>\n",
       "      <td>4</td>\n",
       "    </tr>\n",
       "    <tr>\n",
       "      <th>3</th>\n",
       "      <td>59855</td>\n",
       "      <td>0.000000</td>\n",
       "      <td>Is this something I'll be able to install on m...</td>\n",
       "      <td>0.000000</td>\n",
       "      <td>0.0</td>\n",
       "      <td>0.000000</td>\n",
       "      <td>0.00000</td>\n",
       "      <td>0.0</td>\n",
       "      <td>NaN</td>\n",
       "      <td>NaN</td>\n",
       "      <td>...</td>\n",
       "      <td>2006</td>\n",
       "      <td>rejected</td>\n",
       "      <td>0</td>\n",
       "      <td>0</td>\n",
       "      <td>0</td>\n",
       "      <td>0</td>\n",
       "      <td>0</td>\n",
       "      <td>0.0</td>\n",
       "      <td>0</td>\n",
       "      <td>4</td>\n",
       "    </tr>\n",
       "    <tr>\n",
       "      <th>4</th>\n",
       "      <td>59856</td>\n",
       "      <td>0.893617</td>\n",
       "      <td>haha you guys are a bunch of losers.</td>\n",
       "      <td>0.021277</td>\n",
       "      <td>0.0</td>\n",
       "      <td>0.021277</td>\n",
       "      <td>0.87234</td>\n",
       "      <td>0.0</td>\n",
       "      <td>0.0</td>\n",
       "      <td>0.0</td>\n",
       "      <td>...</td>\n",
       "      <td>2006</td>\n",
       "      <td>rejected</td>\n",
       "      <td>0</td>\n",
       "      <td>0</td>\n",
       "      <td>0</td>\n",
       "      <td>1</td>\n",
       "      <td>0</td>\n",
       "      <td>0.0</td>\n",
       "      <td>4</td>\n",
       "      <td>47</td>\n",
       "    </tr>\n",
       "  </tbody>\n",
       "</table>\n",
       "<p>5 rows × 45 columns</p>\n",
       "</div>"
      ],
      "text/plain": [
       "      id    target                                       comment_text  \\\n",
       "0  59848  0.000000  This is so cool. It's like, 'would you want yo...   \n",
       "1  59849  0.000000  Thank you!! This would make my life a lot less...   \n",
       "2  59852  0.000000  This is such an urgent design problem; kudos t...   \n",
       "3  59855  0.000000  Is this something I'll be able to install on m...   \n",
       "4  59856  0.893617               haha you guys are a bunch of losers.   \n",
       "\n",
       "   severe_toxicity  obscene  identity_attack   insult  threat  asian  atheist  \\\n",
       "0         0.000000      0.0         0.000000  0.00000     0.0    NaN      NaN   \n",
       "1         0.000000      0.0         0.000000  0.00000     0.0    NaN      NaN   \n",
       "2         0.000000      0.0         0.000000  0.00000     0.0    NaN      NaN   \n",
       "3         0.000000      0.0         0.000000  0.00000     0.0    NaN      NaN   \n",
       "4         0.021277      0.0         0.021277  0.87234     0.0    0.0      0.0   \n",
       "\n",
       "             ...             article_id    rating  funny  wow  sad  likes  \\\n",
       "0            ...                   2006  rejected      0    0    0      0   \n",
       "1            ...                   2006  rejected      0    0    0      0   \n",
       "2            ...                   2006  rejected      0    0    0      0   \n",
       "3            ...                   2006  rejected      0    0    0      0   \n",
       "4            ...                   2006  rejected      0    0    0      1   \n",
       "\n",
       "   disagree  sexual_explicit  identity_annotator_count  \\\n",
       "0         0              0.0                         0   \n",
       "1         0              0.0                         0   \n",
       "2         0              0.0                         0   \n",
       "3         0              0.0                         0   \n",
       "4         0              0.0                         4   \n",
       "\n",
       "   toxicity_annotator_count  \n",
       "0                         4  \n",
       "1                         4  \n",
       "2                         4  \n",
       "3                         4  \n",
       "4                        47  \n",
       "\n",
       "[5 rows x 45 columns]"
      ]
     },
     "execution_count": 2,
     "metadata": {},
     "output_type": "execute_result"
    }
   ],
   "source": [
    "train.head()"
   ]
  },
  {
   "cell_type": "markdown",
   "metadata": {},
   "source": [
    "# Feature Extraction"
   ]
  },
  {
   "cell_type": "code",
   "execution_count": 3,
   "metadata": {},
   "outputs": [],
   "source": [
    "train['total_length'] = train['comment_text'].apply(len)\n",
    "train['capitals'] = train['comment_text'].apply(lambda comment: sum(1 for c in comment if c.isupper()))\n",
    "train['caps_vs_length'] = train.apply(lambda row: float(row['capitals'])/float(row['total_length']),axis=1)\n",
    "train['num_exclamation_marks'] = train['comment_text'].apply(lambda comment: comment.count('!'))\n",
    "train['num_question_marks'] = train['comment_text'].apply(lambda comment: comment.count('?'))\n",
    "train['num_punctuation'] = train['comment_text'].apply(lambda comment: sum(comment.count(w) for w in '.,;:'))\n",
    "train['num_symbols'] = train['comment_text'].apply(lambda comment: sum(comment.count(w) for w in '*&$%'))\n",
    "train['num_words'] = train['comment_text'].apply(lambda comment: len(comment.split()))\n",
    "train['num_unique_words'] = train['comment_text'].apply(lambda comment: len(set(w for w in comment.split())))\n",
    "train['words_vs_unique'] = train['num_unique_words'] / train['num_words']\n",
    "train['num_smilies'] = train['comment_text'].apply(lambda comment: sum(comment.count(w) for w in (':-)', ':)', ';-)', ';)')))"
   ]
  },
  {
   "cell_type": "code",
   "execution_count": 4,
   "metadata": {},
   "outputs": [
    {
     "data": {
      "text/html": [
       "<div>\n",
       "<style scoped>\n",
       "    .dataframe tbody tr th:only-of-type {\n",
       "        vertical-align: middle;\n",
       "    }\n",
       "\n",
       "    .dataframe tbody tr th {\n",
       "        vertical-align: top;\n",
       "    }\n",
       "\n",
       "    .dataframe thead th {\n",
       "        text-align: right;\n",
       "    }\n",
       "</style>\n",
       "<table border=\"1\" class=\"dataframe\">\n",
       "  <thead>\n",
       "    <tr style=\"text-align: right;\">\n",
       "      <th></th>\n",
       "      <th>disagree</th>\n",
       "      <th>funny</th>\n",
       "      <th>identity_annotator_count</th>\n",
       "      <th>identity_attack</th>\n",
       "      <th>insult</th>\n",
       "      <th>likes</th>\n",
       "      <th>obscene</th>\n",
       "      <th>sad</th>\n",
       "      <th>severe_toxicity</th>\n",
       "      <th>sexual_explicit</th>\n",
       "      <th>target</th>\n",
       "      <th>threat</th>\n",
       "      <th>toxicity_annotator_count</th>\n",
       "      <th>wow</th>\n",
       "    </tr>\n",
       "  </thead>\n",
       "  <tbody>\n",
       "    <tr>\n",
       "      <th>total_length</th>\n",
       "      <td>0.017617</td>\n",
       "      <td>-0.084710</td>\n",
       "      <td>0.020840</td>\n",
       "      <td>0.053430</td>\n",
       "      <td>0.009085</td>\n",
       "      <td>0.060639</td>\n",
       "      <td>0.009823</td>\n",
       "      <td>-0.019940</td>\n",
       "      <td>0.007962</td>\n",
       "      <td>0.019882</td>\n",
       "      <td>0.006444</td>\n",
       "      <td>-0.013198</td>\n",
       "      <td>-0.030894</td>\n",
       "      <td>0.002572</td>\n",
       "    </tr>\n",
       "    <tr>\n",
       "      <th>capitals</th>\n",
       "      <td>0.003928</td>\n",
       "      <td>-0.039221</td>\n",
       "      <td>0.012405</td>\n",
       "      <td>0.050489</td>\n",
       "      <td>0.026358</td>\n",
       "      <td>0.018707</td>\n",
       "      <td>0.027995</td>\n",
       "      <td>-0.005448</td>\n",
       "      <td>0.025127</td>\n",
       "      <td>0.014144</td>\n",
       "      <td>0.026120</td>\n",
       "      <td>0.000721</td>\n",
       "      <td>-0.009082</td>\n",
       "      <td>0.009687</td>\n",
       "    </tr>\n",
       "    <tr>\n",
       "      <th>caps_vs_length</th>\n",
       "      <td>-0.021716</td>\n",
       "      <td>0.021263</td>\n",
       "      <td>-0.005510</td>\n",
       "      <td>-0.008477</td>\n",
       "      <td>-0.006029</td>\n",
       "      <td>-0.038470</td>\n",
       "      <td>0.017088</td>\n",
       "      <td>0.002848</td>\n",
       "      <td>0.010594</td>\n",
       "      <td>-0.003575</td>\n",
       "      <td>-0.005344</td>\n",
       "      <td>0.000822</td>\n",
       "      <td>0.015381</td>\n",
       "      <td>-0.000603</td>\n",
       "    </tr>\n",
       "    <tr>\n",
       "      <th>num_exclamation_marks</th>\n",
       "      <td>-0.009384</td>\n",
       "      <td>0.007073</td>\n",
       "      <td>0.000869</td>\n",
       "      <td>0.017085</td>\n",
       "      <td>0.052533</td>\n",
       "      <td>-0.007866</td>\n",
       "      <td>0.056108</td>\n",
       "      <td>0.005158</td>\n",
       "      <td>0.035388</td>\n",
       "      <td>0.019437</td>\n",
       "      <td>0.055152</td>\n",
       "      <td>0.021267</td>\n",
       "      <td>0.024115</td>\n",
       "      <td>0.002225</td>\n",
       "    </tr>\n",
       "    <tr>\n",
       "      <th>num_question_marks</th>\n",
       "      <td>-0.002180</td>\n",
       "      <td>-0.009290</td>\n",
       "      <td>0.006305</td>\n",
       "      <td>0.028554</td>\n",
       "      <td>0.014366</td>\n",
       "      <td>-0.002731</td>\n",
       "      <td>0.019233</td>\n",
       "      <td>0.002023</td>\n",
       "      <td>0.011662</td>\n",
       "      <td>0.015987</td>\n",
       "      <td>0.019308</td>\n",
       "      <td>-0.000430</td>\n",
       "      <td>-0.003307</td>\n",
       "      <td>0.001263</td>\n",
       "    </tr>\n",
       "    <tr>\n",
       "      <th>num_punctuation</th>\n",
       "      <td>0.001415</td>\n",
       "      <td>-0.057187</td>\n",
       "      <td>0.018050</td>\n",
       "      <td>0.042990</td>\n",
       "      <td>0.018911</td>\n",
       "      <td>0.029581</td>\n",
       "      <td>0.017701</td>\n",
       "      <td>-0.016511</td>\n",
       "      <td>0.013266</td>\n",
       "      <td>0.018985</td>\n",
       "      <td>0.016974</td>\n",
       "      <td>-0.006479</td>\n",
       "      <td>-0.021231</td>\n",
       "      <td>0.001959</td>\n",
       "    </tr>\n",
       "    <tr>\n",
       "      <th>num_words</th>\n",
       "      <td>0.016121</td>\n",
       "      <td>-0.084398</td>\n",
       "      <td>0.020595</td>\n",
       "      <td>0.050527</td>\n",
       "      <td>0.011975</td>\n",
       "      <td>0.059481</td>\n",
       "      <td>0.014536</td>\n",
       "      <td>-0.019412</td>\n",
       "      <td>0.009696</td>\n",
       "      <td>0.021525</td>\n",
       "      <td>0.009579</td>\n",
       "      <td>-0.009893</td>\n",
       "      <td>-0.029856</td>\n",
       "      <td>0.002714</td>\n",
       "    </tr>\n",
       "    <tr>\n",
       "      <th>num_unique_words</th>\n",
       "      <td>0.019634</td>\n",
       "      <td>-0.085764</td>\n",
       "      <td>0.020787</td>\n",
       "      <td>0.053659</td>\n",
       "      <td>0.019494</td>\n",
       "      <td>0.063874</td>\n",
       "      <td>0.017918</td>\n",
       "      <td>-0.018110</td>\n",
       "      <td>0.011900</td>\n",
       "      <td>0.022816</td>\n",
       "      <td>0.016702</td>\n",
       "      <td>-0.008946</td>\n",
       "      <td>-0.029814</td>\n",
       "      <td>0.003490</td>\n",
       "    </tr>\n",
       "    <tr>\n",
       "      <th>words_vs_unique</th>\n",
       "      <td>-0.020712</td>\n",
       "      <td>0.079045</td>\n",
       "      <td>-0.019749</td>\n",
       "      <td>-0.048941</td>\n",
       "      <td>0.001135</td>\n",
       "      <td>-0.060162</td>\n",
       "      <td>-0.003007</td>\n",
       "      <td>0.016223</td>\n",
       "      <td>-0.005329</td>\n",
       "      <td>-0.015748</td>\n",
       "      <td>0.001172</td>\n",
       "      <td>0.009367</td>\n",
       "      <td>0.027853</td>\n",
       "      <td>-0.004150</td>\n",
       "    </tr>\n",
       "    <tr>\n",
       "      <th>num_smilies</th>\n",
       "      <td>-0.010936</td>\n",
       "      <td>0.010109</td>\n",
       "      <td>-0.000576</td>\n",
       "      <td>-0.008337</td>\n",
       "      <td>-0.009401</td>\n",
       "      <td>-0.016607</td>\n",
       "      <td>-0.001024</td>\n",
       "      <td>-0.002133</td>\n",
       "      <td>-0.003877</td>\n",
       "      <td>-0.000414</td>\n",
       "      <td>-0.010040</td>\n",
       "      <td>-0.003190</td>\n",
       "      <td>-0.003030</td>\n",
       "      <td>-0.002777</td>\n",
       "    </tr>\n",
       "    <tr>\n",
       "      <th>num_symbols</th>\n",
       "      <td>-0.004058</td>\n",
       "      <td>-0.016336</td>\n",
       "      <td>-0.001502</td>\n",
       "      <td>-0.010205</td>\n",
       "      <td>-0.012549</td>\n",
       "      <td>0.007252</td>\n",
       "      <td>0.019443</td>\n",
       "      <td>-0.007410</td>\n",
       "      <td>0.000675</td>\n",
       "      <td>0.002627</td>\n",
       "      <td>-0.014967</td>\n",
       "      <td>-0.011065</td>\n",
       "      <td>-0.005228</td>\n",
       "      <td>0.002698</td>\n",
       "    </tr>\n",
       "  </tbody>\n",
       "</table>\n",
       "</div>"
      ],
      "text/plain": [
       "                       disagree     funny  identity_annotator_count  \\\n",
       "total_length           0.017617 -0.084710                  0.020840   \n",
       "capitals               0.003928 -0.039221                  0.012405   \n",
       "caps_vs_length        -0.021716  0.021263                 -0.005510   \n",
       "num_exclamation_marks -0.009384  0.007073                  0.000869   \n",
       "num_question_marks    -0.002180 -0.009290                  0.006305   \n",
       "num_punctuation        0.001415 -0.057187                  0.018050   \n",
       "num_words              0.016121 -0.084398                  0.020595   \n",
       "num_unique_words       0.019634 -0.085764                  0.020787   \n",
       "words_vs_unique       -0.020712  0.079045                 -0.019749   \n",
       "num_smilies           -0.010936  0.010109                 -0.000576   \n",
       "num_symbols           -0.004058 -0.016336                 -0.001502   \n",
       "\n",
       "                       identity_attack    insult     likes   obscene  \\\n",
       "total_length                  0.053430  0.009085  0.060639  0.009823   \n",
       "capitals                      0.050489  0.026358  0.018707  0.027995   \n",
       "caps_vs_length               -0.008477 -0.006029 -0.038470  0.017088   \n",
       "num_exclamation_marks         0.017085  0.052533 -0.007866  0.056108   \n",
       "num_question_marks            0.028554  0.014366 -0.002731  0.019233   \n",
       "num_punctuation               0.042990  0.018911  0.029581  0.017701   \n",
       "num_words                     0.050527  0.011975  0.059481  0.014536   \n",
       "num_unique_words              0.053659  0.019494  0.063874  0.017918   \n",
       "words_vs_unique              -0.048941  0.001135 -0.060162 -0.003007   \n",
       "num_smilies                  -0.008337 -0.009401 -0.016607 -0.001024   \n",
       "num_symbols                  -0.010205 -0.012549  0.007252  0.019443   \n",
       "\n",
       "                            sad  severe_toxicity  sexual_explicit    target  \\\n",
       "total_length          -0.019940         0.007962         0.019882  0.006444   \n",
       "capitals              -0.005448         0.025127         0.014144  0.026120   \n",
       "caps_vs_length         0.002848         0.010594        -0.003575 -0.005344   \n",
       "num_exclamation_marks  0.005158         0.035388         0.019437  0.055152   \n",
       "num_question_marks     0.002023         0.011662         0.015987  0.019308   \n",
       "num_punctuation       -0.016511         0.013266         0.018985  0.016974   \n",
       "num_words             -0.019412         0.009696         0.021525  0.009579   \n",
       "num_unique_words      -0.018110         0.011900         0.022816  0.016702   \n",
       "words_vs_unique        0.016223        -0.005329        -0.015748  0.001172   \n",
       "num_smilies           -0.002133        -0.003877        -0.000414 -0.010040   \n",
       "num_symbols           -0.007410         0.000675         0.002627 -0.014967   \n",
       "\n",
       "                         threat  toxicity_annotator_count       wow  \n",
       "total_length          -0.013198                 -0.030894  0.002572  \n",
       "capitals               0.000721                 -0.009082  0.009687  \n",
       "caps_vs_length         0.000822                  0.015381 -0.000603  \n",
       "num_exclamation_marks  0.021267                  0.024115  0.002225  \n",
       "num_question_marks    -0.000430                 -0.003307  0.001263  \n",
       "num_punctuation       -0.006479                 -0.021231  0.001959  \n",
       "num_words             -0.009893                 -0.029856  0.002714  \n",
       "num_unique_words      -0.008946                 -0.029814  0.003490  \n",
       "words_vs_unique        0.009367                  0.027853 -0.004150  \n",
       "num_smilies           -0.003190                 -0.003030 -0.002777  \n",
       "num_symbols           -0.011065                 -0.005228  0.002698  "
      ]
     },
     "execution_count": 4,
     "metadata": {},
     "output_type": "execute_result"
    }
   ],
   "source": [
    "features = ('total_length', 'capitals', 'caps_vs_length', 'num_exclamation_marks','num_question_marks', 'num_punctuation', 'num_words', 'num_unique_words','words_vs_unique', 'num_smilies', 'num_symbols')\n",
    "columns = ('target', 'severe_toxicity', 'obscene', 'identity_attack', 'insult', 'threat', 'funny', 'wow', 'sad', 'likes', 'disagree', 'sexual_explicit','identity_annotator_count', 'toxicity_annotator_count')\n",
    "rows = [{c:train[f].corr(train[c]) for c in columns} for f in features]\n",
    "train_correlations = pd.DataFrame(rows, index=features)\n",
    "train_correlations"
   ]
  },
  {
   "cell_type": "code",
   "execution_count": 5,
   "metadata": {},
   "outputs": [],
   "source": [
    "train.fillna(0,inplace=True)\n",
    "train.target = train.target.apply(lambda x: 1 if x>0.45 else 0)"
   ]
  },
  {
   "cell_type": "code",
   "execution_count": 6,
   "metadata": {},
   "outputs": [],
   "source": [
    "from string import punctuation\n",
    "from nltk.tokenize import word_tokenize \n",
    "from nltk.corpus import stopwords"
   ]
  },
  {
   "cell_type": "code",
   "execution_count": 7,
   "metadata": {},
   "outputs": [],
   "source": [
    "stop_words = set(stopwords.words('english')) \n",
    "\n",
    "train['comment_text'] = train.comment_text.apply(lambda x: x.lower())\n",
    "\n",
    "train['cleaned_comment'] = train.comment_text.apply(lambda x: word_tokenize(x))\n",
    "\n",
    "train['cleaned_comment'] = train.cleaned_comment.apply(lambda x: [w for w in x if w not in stop_words])\n",
    "\n",
    "train['cleaned_comment'] = train.cleaned_comment.apply(lambda x: ' '.join(x))\n",
    "\n",
    "train.drop('comment_text',axis=1,inplace=True)"
   ]
  },
  {
   "cell_type": "markdown",
   "metadata": {},
   "source": [
    "# Modelling"
   ]
  },
  {
   "cell_type": "code",
   "execution_count": 8,
   "metadata": {},
   "outputs": [],
   "source": [
    "from sklearn.feature_extraction.text import CountVectorizer\n",
    "from sklearn.model_selection import train_test_split\n",
    "\n",
    "from sklearn.feature_selection import SelectKBest\n",
    "from sklearn.feature_selection import chi2"
   ]
  },
  {
   "cell_type": "code",
   "execution_count": 9,
   "metadata": {},
   "outputs": [],
   "source": [
    "import numpy as np\n",
    "#traget variable\n",
    "y = train.target\n",
    "\n",
    "#test-triain split\n",
    "X_train, X_test, y_train, y_test = train_test_split(train, y, test_size=0.33,random_state=53)\n",
    "\n",
    "# Initialize a CountVectorizer object: count_vectorizer\n",
    "count_vectorizer = CountVectorizer(stop_words=\"english\")\n",
    "count_train = count_vectorizer.fit_transform(X_train[\"cleaned_comment\"])\n",
    "\n",
    "y_train = np.asarray(y_train.values)\n",
    "\n",
    "# Pick up the most effective words\n",
    "ch2 = SelectKBest(chi2, k = 300)"
   ]
  },
  {
   "cell_type": "code",
   "execution_count": 10,
   "metadata": {},
   "outputs": [],
   "source": [
    "X_new = ch2.fit_transform(count_train, y_train)\n",
    "\n",
    "# Transform the test data using only the 'text' column values: count_test \n",
    "count_test = count_vectorizer.transform(X_test[\"cleaned_comment\"])\n",
    "X_test_new = ch2.transform(X=count_test)"
   ]
  },
  {
   "cell_type": "markdown",
   "metadata": {},
   "source": [
    "## 1. Naive Bayes"
   ]
  },
  {
   "cell_type": "markdown",
   "metadata": {},
   "source": [
    "Multinomial Naive Bayes is a specialized version of Naive Bayes that is designed more for text documents. Whereas simple naive Bayes would model a document as the presence and absence of particular words, multinomial naive bayes explicitly models the word counts and adjusts the underlying calculations to deal with in.\n",
    "It estimates the conditional probability of a particular word given a class as the relative frequency of term t in documents belonging to class(c). The variation takes into account the number of occurrences of term t in training documents from class (c),including multiple occurrences."
   ]
  },
  {
   "cell_type": "code",
   "execution_count": 11,
   "metadata": {},
   "outputs": [],
   "source": [
    "from sklearn.naive_bayes import MultinomialNB"
   ]
  },
  {
   "cell_type": "code",
   "execution_count": 12,
   "metadata": {},
   "outputs": [],
   "source": [
    "clf = MultinomialNB()\n",
    "\n",
    "# Fit the classifier to the training data\n",
    "clf.fit(X_new, y_train)\n",
    "\n",
    "# Create the predicted tags: pred\n",
    "pred_nb = clf.predict(X_test_new)"
   ]
  },
  {
   "cell_type": "markdown",
   "metadata": {},
   "source": [
    "## 2. Decision Tree Classifier"
   ]
  },
  {
   "cell_type": "markdown",
   "metadata": {},
   "source": [
    "The general motive of using Decision Tree is to create a training model which can use to predict class or value of target variables by learning decision rules inferred from prior data(training data).\n",
    "A decision tree is a flowchart-like tree structure where an internal node represents feature(or attribute), the branch represents a decision rule, and each leaf node represents the outcome. The topmost node in a decision tree is known as the root node. It learns to partition on the basis of the attribute value. It partitions the tree in recursively manner call recursive partitioning. This flowchart-like structure helps you in decision making. It's visualization like a flowchart diagram which easily mimics the human level thinking. That is why decision trees are easy to understand and interpret."
   ]
  },
  {
   "cell_type": "code",
   "execution_count": 13,
   "metadata": {},
   "outputs": [],
   "source": [
    "from sklearn.tree import DecisionTreeClassifier"
   ]
  },
  {
   "cell_type": "code",
   "execution_count": 14,
   "metadata": {},
   "outputs": [],
   "source": [
    "clf = DecisionTreeClassifier()\n",
    "\n",
    "# Fit the classifier to the training data\n",
    "clf.fit(X_new, y_train)\n",
    "\n",
    "# Create the predicted tags: pred\n",
    "pred_dt = clf.predict(X_test_new)"
   ]
  },
  {
   "cell_type": "markdown",
   "metadata": {},
   "source": [
    "## 3. Random Forest"
   ]
  },
  {
   "cell_type": "markdown",
   "metadata": {},
   "source": [
    "The random forest is a model made up of many decision trees. Rather than just simply averaging the prediction of trees (which we could call a “forest”), this model uses two key concepts that gives it the name random:\n",
    "\n",
    "1.Random sampling of training data points when building trees.\n",
    "\n",
    "2.Random subsets of features considered when splitting node."
   ]
  },
  {
   "cell_type": "code",
   "execution_count": 15,
   "metadata": {},
   "outputs": [],
   "source": [
    "from sklearn.ensemble import RandomForestClassifier"
   ]
  },
  {
   "cell_type": "code",
   "execution_count": 16,
   "metadata": {},
   "outputs": [
    {
     "name": "stderr",
     "output_type": "stream",
     "text": [
      "C:\\Users\\HarshithaGS\\AppData\\Roaming\\Python\\Python37\\site-packages\\sklearn\\ensemble\\forest.py:246: FutureWarning: The default value of n_estimators will change from 10 in version 0.20 to 100 in 0.22.\n",
      "  \"10 in version 0.20 to 100 in 0.22.\", FutureWarning)\n"
     ]
    }
   ],
   "source": [
    "clf = RandomForestClassifier()\n",
    "\n",
    "# Fit the classifier to the training data\n",
    "clf.fit(X_new, y_train)\n",
    "\n",
    "# Create the predicted tags: pred\n",
    "pred_rf = clf.predict(X_test_new)"
   ]
  },
  {
   "cell_type": "markdown",
   "metadata": {},
   "source": [
    "## 4.Logistic Regression"
   ]
  },
  {
   "cell_type": "markdown",
   "metadata": {},
   "source": [
    " The logistic regression model computes a weighted sum of the input variables similar to the linear regression, but it runs the result through a special non-linear function, the logistic function or sigmoid function to produce the output y. "
   ]
  },
  {
   "cell_type": "code",
   "execution_count": 17,
   "metadata": {},
   "outputs": [],
   "source": [
    "from sklearn.linear_model import LogisticRegression"
   ]
  },
  {
   "cell_type": "code",
   "execution_count": 18,
   "metadata": {},
   "outputs": [
    {
     "name": "stderr",
     "output_type": "stream",
     "text": [
      "C:\\Users\\HarshithaGS\\AppData\\Roaming\\Python\\Python37\\site-packages\\sklearn\\linear_model\\logistic.py:433: FutureWarning: Default solver will be changed to 'lbfgs' in 0.22. Specify a solver to silence this warning.\n",
      "  FutureWarning)\n"
     ]
    }
   ],
   "source": [
    "clf = LogisticRegression()\n",
    "\n",
    "# Fit the classifier to the training data\n",
    "clf.fit(X_new, y_train)\n",
    "\n",
    "# Create the predicted tags: pred\n",
    "pred_lr = clf.predict(X_test_new)"
   ]
  },
  {
   "cell_type": "markdown",
   "metadata": {},
   "source": [
    "# Model Comparison"
   ]
  },
  {
   "cell_type": "code",
   "execution_count": 27,
   "metadata": {},
   "outputs": [],
   "source": [
    "from sklearn import metrics\n",
    "import matplotlib.pyplot as plt\n",
    "import seaborn as sns\n",
    "from sklearn.metrics import log_loss\n",
    "from sklearn.pipeline import Pipeline\n",
    "\n",
    "from sklearn.metrics import roc_curve, auc\n",
    "import seaborn as sns\n",
    "import matplotlib.pyplot as plt\n",
    "%matplotlib inline\n",
    "from sklearn.model_selection import StratifiedKFold\n",
    "from scipy import interp"
   ]
  },
  {
   "cell_type": "markdown",
   "metadata": {},
   "source": [
    "1.Comparing confusion matrices of all models"
   ]
  },
  {
   "cell_type": "code",
   "execution_count": 39,
   "metadata": {},
   "outputs": [
    {
     "name": "stdout",
     "output_type": "stream",
     "text": [
      "Confusion Matrix of Naive Bayes\n"
     ]
    },
    {
     "data": {
      "text/plain": [
       "<matplotlib.axes._subplots.AxesSubplot at 0x23c9a22fbe0>"
      ]
     },
     "execution_count": 39,
     "metadata": {},
     "output_type": "execute_result"
    },
    {
     "data": {
      "image/png": "[encoded data removed]",
      "text/plain": [
       "<Figure size 432x288 with 2 Axes>"
      ]
     },
     "metadata": {},
     "output_type": "display_data"
    }
   ],
   "source": [
    "# We use ax parameter to tell seaborn which subplot to use for this plot\n",
    "print('Confusion Matrix of Naive Bayes')\n",
    "sns.heatmap(metrics.confusion_matrix(pred_nb,y_test),annot=True,fmt='2.0f')"
   ]
  },
  {
   "cell_type": "code",
   "execution_count": 40,
   "metadata": {},
   "outputs": [
    {
     "name": "stdout",
     "output_type": "stream",
     "text": [
      "Confusion Matrix of Decision Tree\n"
     ]
    },
    {
     "data": {
      "text/plain": [
       "<matplotlib.axes._subplots.AxesSubplot at 0x23c99c264a8>"
      ]
     },
     "execution_count": 40,
     "metadata": {},
     "output_type": "execute_result"
    },
    {
     "data": {
      "image/png": "[encoded data removed]",
      "text/plain": [
       "<Figure size 432x288 with 2 Axes>"
      ]
     },
     "metadata": {},
     "output_type": "display_data"
    }
   ],
   "source": [
    "print('Confusion Matrix of Decision Tree')\n",
    "sns.heatmap(metrics.confusion_matrix(pred_dt,y_test),annot=True,fmt='2.0f')"
   ]
  },
  {
   "cell_type": "code",
   "execution_count": 41,
   "metadata": {},
   "outputs": [
    {
     "name": "stdout",
     "output_type": "stream",
     "text": [
      "Confusion Matrix of Random Forest\n"
     ]
    },
    {
     "data": {
      "text/plain": [
       "<matplotlib.axes._subplots.AxesSubplot at 0x23c993bb358>"
      ]
     },
     "execution_count": 41,
     "metadata": {},
     "output_type": "execute_result"
    },
    {
     "data": {
      "image/png": "[encoded data removed]",
      "text/plain": [
       "<Figure size 432x288 with 2 Axes>"
      ]
     },
     "metadata": {},
     "output_type": "display_data"
    }
   ],
   "source": [
    "print('Confusion Matrix of Random Forest')\n",
    "sns.heatmap(metrics.confusion_matrix(pred_rf,y_test),annot=True,fmt='2.0f')"
   ]
  },
  {
   "cell_type": "code",
   "execution_count": 42,
   "metadata": {},
   "outputs": [
    {
     "name": "stdout",
     "output_type": "stream",
     "text": [
      "Confusion Matrix of Logistic Regression\n"
     ]
    },
    {
     "data": {
      "text/plain": [
       "<matplotlib.axes._subplots.AxesSubplot at 0x23c97997978>"
      ]
     },
     "execution_count": 42,
     "metadata": {},
     "output_type": "execute_result"
    },
    {
     "data": {
      "image/png": "[encoded data removed]",
      "text/plain": [
       "<Figure size 432x288 with 2 Axes>"
      ]
     },
     "metadata": {},
     "output_type": "display_data"
    }
   ],
   "source": [
    "print('Confusion Matrix of Logistic Regression')\n",
    "sns.heatmap(metrics.confusion_matrix(pred_lr,y_test),annot=True,fmt='2.0f')"
   ]
  },
  {
   "cell_type": "markdown",
   "metadata": {},
   "source": [
    "2.Comparing Accuracy score of all models"
   ]
  },
  {
   "cell_type": "code",
   "execution_count": 23,
   "metadata": {},
   "outputs": [
    {
     "name": "stdout",
     "output_type": "stream",
     "text": [
      "Accuracy of Naive Bayes Model is: 0.9341782948209312\n",
      "Accuracy of Decision Tree Model is: 0.9270779991571652\n",
      "Accuracy of Random Forest Model is: 0.9339029463960417\n",
      "Accuracy of Logistic Regression Model is: 0.9375529919796376\n"
     ]
    }
   ],
   "source": [
    "score = metrics.accuracy_score(y_test, pred_nb)\n",
    "print('Accuracy of Naive Bayes Model is:',score)\n",
    "score = metrics.accuracy_score(y_test, pred_dt)\n",
    "print('Accuracy of Decision Tree Model is:',score)\n",
    "score = metrics.accuracy_score(y_test, pred_rf)\n",
    "print('Accuracy of Random Forest Model is:',score)\n",
    "score = metrics.accuracy_score(y_test, pred_lr)\n",
    "print('Accuracy of Logistic Regression Model is:',score)"
   ]
  },
  {
   "cell_type": "markdown",
   "metadata": {},
   "source": [
    "3. Comparing F1-score of all models"
   ]
  },
  {
   "cell_type": "code",
   "execution_count": 24,
   "metadata": {},
   "outputs": [
    {
     "name": "stdout",
     "output_type": "stream",
     "text": [
      "F1 score of Naive Bayes Model is: 0.9375529919796376\n",
      "F1 score of Decision Tree Model is: 0.9375529919796376\n",
      "F1 score of Random Forest Model is: 0.9375529919796376\n",
      "F1 score of Logistic Regression Model is: 0.9375529919796376\n"
     ]
    }
   ],
   "source": [
    "f1 = metrics.f1_score(y_test, pred_nb)\n",
    "print('F1 score of Naive Bayes Model is:',score)\n",
    "f1 = metrics.f1_score(y_test, pred_dt)\n",
    "print('F1 score of Decision Tree Model is:',score)\n",
    "f1 = metrics.f1_score(y_test, pred_rf)\n",
    "print('F1 score of Random Forest Model is:',score)\n",
    "f1 = metrics.f1_score(y_test, pred_lr)\n",
    "print('F1 score of Logistic Regression Model is:',score)"
   ]
  },
  {
   "cell_type": "markdown",
   "metadata": {},
   "source": [
    "4. Comparing Log loss of all models"
   ]
  },
  {
   "cell_type": "code",
   "execution_count": 25,
   "metadata": {},
   "outputs": [
    {
     "name": "stdout",
     "output_type": "stream",
     "text": [
      "Log loss of Naive Bayes model is : 2.273413561692878\n",
      "Log loss of Decision Tree model is : 2.5186577517160136\n",
      "Log loss of Random Forest model is : 2.2829269437503528\n",
      "Log loss of Logistic Regression model is : 2.1568526479840164\n"
     ]
    }
   ],
   "source": [
    "loss = log_loss(y_test,pred_nb)\n",
    "print('Log loss of Naive Bayes model is :' ,loss)\n",
    "loss = log_loss(y_test,pred_dt)\n",
    "print('Log loss of Decision Tree model is :' ,loss)\n",
    "loss = log_loss(y_test,pred_rf)\n",
    "print('Log loss of Random Forest model is :' ,loss)\n",
    "loss = log_loss(y_test,pred_lr)\n",
    "print('Log loss of Logistic Regression model is :' ,loss)"
   ]
  },
  {
   "cell_type": "markdown",
   "metadata": {},
   "source": [
    "5. Comparing AUC-ROC of all models"
   ]
  },
  {
   "cell_type": "code",
   "execution_count": 51,
   "metadata": {},
   "outputs": [
    {
     "data": {
      "image/png": "[encoded data removed]",
      "text/plain": [
       "<Figure size 432x288 with 1 Axes>"
      ]
     },
     "metadata": {},
     "output_type": "display_data"
    }
   ],
   "source": [
    "from scipy import interp\n",
    "\n",
    "fpr, tpr, thresholds = roc_curve(y_test, pred_nb)\n",
    "mean_tpr += interp(mean_fpr, fpr, tpr)\n",
    "mean_tpr[0] = 0.0\n",
    "roc_auc = auc(fpr, tpr)\n",
    "\n",
    "mean_tpr[-1] = 1.0\n",
    "mean_auc = auc(mean_fpr, mean_tpr)\n",
    "plt.plot(mean_fpr, \n",
    "             mean_tpr, \n",
    "             color='#1947D1', \n",
    "             linestyle='--',\n",
    "             label='(ROC AUC = %0.2f)' % (mean_auc), \n",
    "             lw=2\n",
    "    )\n",
    "\n",
    "plt.plot([0, 1], [0, 1], '--', color=(0.6, 0.6, 0.6), label='Random Guessing')    \n",
    "plt.xlim([-0.05, 1.05])\n",
    "plt.ylim([-0.05, 1.05])\n",
    "plt.xlabel('False Positive Rate')\n",
    "plt.ylabel('True Positive Rate')\n",
    "plt.title('Multinomial NB')\n",
    "plt.legend(loc=\"lower right\")\n",
    "plt.savefig('roc_maxfeatures.eps', dpi=300)\n",
    "plt.show()"
   ]
  },
  {
   "cell_type": "code",
   "execution_count": 56,
   "metadata": {},
   "outputs": [
    {
     "data": {
      "image/png": "[encoded data removed]",
      "text/plain": [
       "<Figure size 432x288 with 1 Axes>"
      ]
     },
     "metadata": {},
     "output_type": "display_data"
    }
   ],
   "source": [
    "from scipy import interp\n",
    "\n",
    "fpr, tpr, thresholds = roc_curve(y_test, pred_dt)\n",
    "mean_tpr += interp(mean_fpr, fpr, tpr)\n",
    "mean_tpr[0] = 0.0\n",
    "roc_auc = auc(fpr, tpr)\n",
    "\n",
    "mean_tpr[-1] = 1.0\n",
    "mean_auc = auc(mean_fpr, mean_tpr)\n",
    "plt.plot(mean_fpr, \n",
    "             mean_tpr, \n",
    "             color='#1947D1', \n",
    "             linestyle='--',\n",
    "             label='(ROC AUC = %0.2f)' % (mean_auc), \n",
    "             lw=2\n",
    "    )\n",
    "\n",
    "plt.plot([0, 1], [0, 1], '--', color=(0.6, 0.6, 0.6), label='Random Guessing')    \n",
    "plt.xlim([-0.05, 1.05])\n",
    "plt.ylim([-0.05, 1.05])\n",
    "plt.xlabel('False Positive Rate')\n",
    "plt.ylabel('True Positive Rate')\n",
    "plt.title('Decision Tree')\n",
    "plt.legend(loc=\"lower right\")\n",
    "plt.savefig('roc_maxfeatures.eps', dpi=300)\n",
    "plt.show()"
   ]
  },
  {
   "cell_type": "code",
   "execution_count": 57,
   "metadata": {},
   "outputs": [
    {
     "data": {
      "image/png": "[encoded data removed]",
      "text/plain": [
       "<Figure size 432x288 with 1 Axes>"
      ]
     },
     "metadata": {},
     "output_type": "display_data"
    }
   ],
   "source": [
    "from scipy import interp\n",
    "\n",
    "fpr, tpr, thresholds = roc_curve(y_test, pred_rf)\n",
    "mean_tpr += interp(mean_fpr, fpr, tpr)\n",
    "mean_tpr[0] = 0.0\n",
    "roc_auc = auc(fpr, tpr)\n",
    "\n",
    "mean_tpr[-1] = 1.0\n",
    "mean_auc = auc(mean_fpr, mean_tpr)\n",
    "plt.plot(mean_fpr, \n",
    "             mean_tpr, \n",
    "             color='#1947D1', \n",
    "             linestyle='--',\n",
    "             label='(ROC AUC = %0.2f)' % (mean_auc), \n",
    "             lw=2\n",
    "    )\n",
    "\n",
    "plt.plot([0, 1], [0, 1], '--', color=(0.6, 0.6, 0.6), label='Random Guessing')    \n",
    "plt.xlim([-0.05, 1.05])\n",
    "plt.ylim([-0.05, 1.05])\n",
    "plt.xlabel('False Positive Rate')\n",
    "plt.ylabel('True Positive Rate')\n",
    "plt.title('Random Forest')\n",
    "plt.legend(loc=\"lower right\")\n",
    "plt.savefig('roc_maxfeatures.eps', dpi=300)\n",
    "plt.show()"
   ]
  },
  {
   "cell_type": "code",
   "execution_count": 58,
   "metadata": {},
   "outputs": [
    {
     "data": {
      "image/png": "[encoded data removed]",
      "text/plain": [
       "<Figure size 432x288 with 1 Axes>"
      ]
     },
     "metadata": {},
     "output_type": "display_data"
    }
   ],
   "source": [
    "from scipy import interp\n",
    "\n",
    "fpr, tpr, thresholds = roc_curve(y_test, pred_lr)\n",
    "mean_tpr += interp(mean_fpr, fpr, tpr)\n",
    "mean_tpr[0] = 0.0\n",
    "roc_auc = auc(fpr, tpr)\n",
    "\n",
    "mean_tpr[-1] = 1.0\n",
    "mean_auc = auc(mean_fpr, mean_tpr)\n",
    "plt.plot(mean_fpr, \n",
    "             mean_tpr, \n",
    "             color='#1947D1', \n",
    "             linestyle='--',\n",
    "             label='(ROC AUC = %0.2f)' % (mean_auc), \n",
    "             lw=2\n",
    "    )\n",
    "\n",
    "plt.plot([0, 1], [0, 1], '--', color=(0.6, 0.6, 0.6), label='Random Guessing')    \n",
    "plt.xlim([-0.05, 1.05])\n",
    "plt.ylim([-0.05, 1.05])\n",
    "plt.xlabel('False Positive Rate')\n",
    "plt.ylabel('True Positive Rate')\n",
    "plt.title('Logistic Regression')\n",
    "plt.legend(loc=\"lower right\")\n",
    "plt.savefig('roc_maxfeatures.eps', dpi=300)\n",
    "plt.show()"
   ]
  },
  {
   "cell_type": "code",
   "execution_count": null,
   "metadata": {},
   "outputs": [],
   "source": []
  }
 ],
 "metadata": {
  "kernelspec": {
   "display_name": "Python 3",
   "language": "python",
   "name": "python3"
  },
  "language_info": {
   "codemirror_mode": {
    "name": "ipython",
    "version": 3
   },
   "file_extension": ".py",
   "mimetype": "text/x-python",
   "name": "python",
   "nbconvert_exporter": "python",
   "pygments_lexer": "ipython3",
   "version": "3.7.1"
  }
 },
 "nbformat": 4,
 "nbformat_minor": 2
}
